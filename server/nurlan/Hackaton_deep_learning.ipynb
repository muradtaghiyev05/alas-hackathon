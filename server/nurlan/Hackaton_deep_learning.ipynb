{
  "cells": [
    {
      "cell_type": "code",
      "execution_count": 2,
      "metadata": {
        "id": "iIosE_zQbOOu"
      },
      "outputs": [],
      "source": [
        "import tensorflow as tf\n",
        "from tensorflow.keras.preprocessing.image import ImageDataGenerator\n",
        "from dataclasses import dataclass\n",
        "import numpy as np\n",
        "from PIL import Image"
      ]
    },
    {
      "cell_type": "code",
      "execution_count": 3,
      "metadata": {
        "id": "Xoe3bx24PYrM"
      },
      "outputs": [],
      "source": [
        "import zipfile\n",
        "with zipfile.ZipFile('bilinmir.zip', 'r') as zip_ref:\n",
        "    zip_ref.extractall('bilinmir')"
      ]
    },
    {
      "cell_type": "code",
      "execution_count": 9,
      "metadata": {
        "colab": {
          "base_uri": "https://localhost:8080/"
        },
        "id": "-a63vDSCbXRq",
        "outputId": "e4e746d3-7978-42b5-a217-64984a680cab"
      },
      "outputs": [
        {
          "name": "stdout",
          "output_type": "stream",
          "text": [
            "Found 11887 images belonging to 10 classes.\n"
          ]
        }
      ],
      "source": [
        "from keras.preprocessing.image import ImageDataGenerator\n",
        "\n",
        "data='/content/bilinmir/bilinmir'\n",
        "\n",
        "image_datagen = ImageDataGenerator(rescale=1/255,\n",
        "                                   rotation_range=0.4,\n",
        "                                   width_shift_range=0.2,\n",
        "                                   height_shift_range=0.2,\n",
        "                                   shear_range=0.2,\n",
        "                                   zoom_range=0.2,\n",
        "                                   horizontal_flip=True,\n",
        "                                   fill_mode='nearest')\n",
        "\n",
        "image_generator = image_datagen.flow_from_directory(data,\n",
        "                                                    target_size=(227, 227),\n",
        "                                                    class_mode='categorical',\n",
        "                                                    batch_size=128)"
      ]
    },
    {
      "cell_type": "code",
      "execution_count": 10,
      "metadata": {
        "id": "Y7kmuLj5cLLI"
      },
      "outputs": [],
      "source": [
        "base_model=tf.keras.applications.VGG16(include_top=False,\n",
        "    weights='imagenet',\n",
        "    input_tensor=None,\n",
        "    input_shape=(227,227,3))"
      ]
    },
    {
      "cell_type": "code",
      "execution_count": 11,
      "metadata": {
        "id": "p1oGFDFgcW1U"
      },
      "outputs": [],
      "source": [
        "for layer in base_model.layers[:-1]:\n",
        "    layer.trainable=False"
      ]
    },
    {
      "cell_type": "code",
      "execution_count": 12,
      "metadata": {
        "id": "f5pJq4IpcXbQ"
      },
      "outputs": [],
      "source": [
        "model=tf.keras.models.Sequential()\n",
        "model.add(base_model)\n",
        "model.add(tf.keras.layers.Flatten())\n",
        "model.add(tf.keras.layers.Dense(128,activation='relu'))\n",
        "model.add(tf.keras.layers.Dense(10,activation='softmax'))\n",
        "model.compile(loss='categorical_crossentropy',optimizer='adam',metrics='accuracy')"
      ]
    },
    {
      "cell_type": "code",
      "execution_count": 17,
      "metadata": {
        "colab": {
          "base_uri": "https://localhost:8080/"
        },
        "id": "342zT2PqdF1_",
        "outputId": "70ebb25f-afb3-49a4-c3ed-5b4f1812ce07"
      },
      "outputs": [
        {
          "name": "stdout",
          "output_type": "stream",
          "text": [
            "Epoch 1/5\n",
            "93/93 [==============================] - 170s 2s/step - loss: 0.1504 - accuracy: 0.9502\n",
            "Epoch 2/5\n",
            "93/93 [==============================] - 169s 2s/step - loss: 0.1423 - accuracy: 0.9533\n",
            "Epoch 3/5\n",
            "93/93 [==============================] - 169s 2s/step - loss: 0.1480 - accuracy: 0.9529\n",
            "Epoch 4/5\n",
            "93/93 [==============================] - 168s 2s/step - loss: 0.1461 - accuracy: 0.9510\n",
            "Epoch 5/5\n",
            "93/93 [==============================] - 169s 2s/step - loss: 0.1457 - accuracy: 0.9535\n"
          ]
        },
        {
          "data": {
            "text/plain": [
              "<keras.callbacks.History at 0x79b080305780>"
            ]
          },
          "execution_count": 17,
          "metadata": {},
          "output_type": "execute_result"
        }
      ],
      "source": [
        "model.fit(image_generator,epochs=5)"
      ]
    },
    {
      "cell_type": "code",
      "execution_count": null,
      "metadata": {
        "id": "MmPbqkdwFBXr"
      },
      "outputs": [],
      "source": [
        "model.save('model.h5')"
      ]
    },
    {
      "cell_type": "code",
      "execution_count": null,
      "metadata": {
        "id": "cZ38oXGO0bdu"
      },
      "outputs": [],
      "source": [
        "from PIL import Image\n",
        "\n",
        "im = Image.open(\"/content/bilinmir/bilinmir/9/img010-00067.png\")\n",
        "print(im.size)\n",
        "im = im.resize((227, 227))\n",
        "print(im.size)\n",
        "im = im.convert(\"RGB\")\n",
        "print(im.size)"
      ]
    },
    {
      "cell_type": "code",
      "execution_count": 84,
      "metadata": {
        "id": "Ku44Ecyx2fms"
      },
      "outputs": [],
      "source": [
        "im = np.array(im)"
      ]
    },
    {
      "cell_type": "code",
      "execution_count": 85,
      "metadata": {
        "id": "4j5P__eS2wDb"
      },
      "outputs": [],
      "source": [
        "im.shape\n",
        "\n",
        "im = im.reshape((1, 227, 227, 3))"
      ]
    },
    {
      "cell_type": "code",
      "execution_count": 86,
      "metadata": {
        "colab": {
          "base_uri": "https://localhost:8080/"
        },
        "id": "Ci-LRmXn2yjP",
        "outputId": "69cba0fa-e63c-4cff-c270-b844f74bc084"
      },
      "outputs": [
        {
          "name": "stdout",
          "output_type": "stream",
          "text": [
            "1/1 [==============================] - 0s 18ms/step\n"
          ]
        },
        {
          "data": {
            "text/plain": [
              "9"
            ]
          },
          "execution_count": 86,
          "metadata": {},
          "output_type": "execute_result"
        }
      ],
      "source": [
        "np.argmax(model.predict(im))"
      ]
    },
    {
      "cell_type": "code",
      "execution_count": 77,
      "metadata": {
        "colab": {
          "base_uri": "https://localhost:8080/"
        },
        "id": "-9RlBCNt3TUy",
        "outputId": "ad66d07f-8f7d-4cfc-bf3b-c7fda6618813"
      },
      "outputs": [
        {
          "name": "stdout",
          "output_type": "stream",
          "text": [
            "Model: \"sequential_1\"\n",
            "_________________________________________________________________\n",
            " Layer (type)                Output Shape              Param #   \n",
            "=================================================================\n",
            " vgg16 (Functional)          (None, 7, 7, 512)         14714688  \n",
            "                                                                 \n",
            " flatten_1 (Flatten)         (None, 25088)             0         \n",
            "                                                                 \n",
            " dense_2 (Dense)             (None, 128)               3211392   \n",
            "                                                                 \n",
            " dense_3 (Dense)             (None, 10)                1290      \n",
            "                                                                 \n",
            "=================================================================\n",
            "Total params: 17,927,370\n",
            "Trainable params: 3,212,682\n",
            "Non-trainable params: 14,714,688\n",
            "_________________________________________________________________\n"
          ]
        }
      ],
      "source": [
        "model.summary()"
      ]
    },
    {
      "cell_type": "code",
      "execution_count": 87,
      "metadata": {
        "id": "U8jdVbS34J6y"
      },
      "outputs": [],
      "source": [
        "import numpy as np\n",
        "from PIL import Image\n",
        "\n",
        "def process_image(image_path, model):\n",
        "    im = Image.open(image_path)\n",
        "    print(im.size)\n",
        "    im = im.resize((227, 227))\n",
        "    print(im.size)\n",
        "    im = im.convert(\"RGB\")\n",
        "    print(im.size)\n",
        "    im = np.array(im)\n",
        "    im = im.reshape((1, 227, 227, 3))\n",
        "    prediction = np.argmax(model.predict(im))\n",
        "\n",
        "    return prediction\n"
      ]
    },
    {
      "cell_type": "code",
      "execution_count": 88,
      "metadata": {
        "colab": {
          "base_uri": "https://localhost:8080/"
        },
        "id": "kI3cTYkm55Fe",
        "outputId": "ed8fcae6-101a-4141-b9ed-9601213f2ea4"
      },
      "outputs": [
        {
          "name": "stdout",
          "output_type": "stream",
          "text": [
            "(128, 128)\n",
            "(227, 227)\n",
            "(227, 227)\n",
            "1/1 [==============================] - 0s 22ms/step\n"
          ]
        },
        {
          "data": {
            "text/plain": [
              "9"
            ]
          },
          "execution_count": 88,
          "metadata": {},
          "output_type": "execute_result"
        }
      ],
      "source": [
        "process_image('/content/bilinmir/bilinmir/9/img010-00055.png',model)"
      ]
    }
  ],
  "metadata": {
    "accelerator": "GPU",
    "colab": {
      "gpuType": "T4",
      "provenance": []
    },
    "kernelspec": {
      "display_name": "Python 3",
      "name": "python3"
    },
    "language_info": {
      "name": "python"
    }
  },
  "nbformat": 4,
  "nbformat_minor": 0
}
